{
 "cells": [
  {
   "cell_type": "code",
   "execution_count": 225,
   "metadata": {},
   "outputs": [],
   "source": [
    "import pandas as pd\n",
    "import numpy as np\n",
    "import matplotlib\n",
    "from math import sqrt\n",
    "from sklearn.preprocessing import MinMaxScaler\n",
    "from sklearn.decomposition import PCA\n",
    "from sklearn.pipeline import Pipeline\n",
    "from sklearn.neural_network import MLPClassifier\n",
    "from sklearn.metrics import mean_squared_error\n",
    "from sklearn.model_selection import cross_val_score\n",
    "\n",
    "df = pd.read_csv(\"train.csv\")\n",
    "\n",
    "# Remove `Id` feature\n",
    "df = df.drop('Id', 1)"
   ]
  },
  {
   "cell_type": "code",
   "execution_count": 159,
   "metadata": {},
   "outputs": [
    {
     "data": {
      "image/png": "[encoded data removed]",
      "text/plain": [
       "<Figure size 432x288 with 1 Axes>"
      ]
     },
     "metadata": {
      "needs_background": "light"
     },
     "output_type": "display_data"
    }
   ],
   "source": [
    "# Show histogram for `SalePrice` in report\n",
    "hist = df.hist('SalePrice')"
   ]
  },
  {
   "cell_type": "code",
   "execution_count": 160,
   "metadata": {},
   "outputs": [
    {
     "data": {
      "text/plain": [
       "<AxesSubplot:>"
      ]
     },
     "execution_count": 160,
     "metadata": {},
     "output_type": "execute_result"
    },
    {
     "data": {
      "image/png": "[encoded data removed]",
      "text/plain": [
       "<Figure size 432x288 with 1 Axes>"
      ]
     },
     "metadata": {
      "needs_background": "light"
     },
     "output_type": "display_data"
    }
   ],
   "source": [
    "# Plot boxplot for three attributes\n",
    "df.boxplot(column=['BsmtUnfSF', '1stFlrSF', '2ndFlrSF'])"
   ]
  },
  {
   "cell_type": "code",
   "execution_count": 271,
   "metadata": {},
   "outputs": [],
   "source": [
    "num_df = df.drop(['SalePrice'], axis=1).select_dtypes(include=np.number)\n",
    "num_cols = numeric_df.columns\n",
    "\n",
    "for col in num_cols:\n",
    "    # Clip outlier values into threshold values\n",
    "    percentiles = df[col].quantile([0.01, 0.99]).values\n",
    "    df[col] = np.clip(df[col], percentiles[0], percentiles[1])\n",
    "    \n",
    "    # Fill all NA with mean\n",
    "    df[col] = df[col].fillna(df[col].mean())"
   ]
  },
  {
   "cell_type": "code",
   "execution_count": 272,
   "metadata": {},
   "outputs": [],
   "source": [
    "# Min-max normalization before PCA\n",
    "pipeline = Pipeline([('scaling', MinMaxScaler()), ('pca', PCA(n_components=19))])\n",
    "X_train = pd.DataFrame(pipeline.fit_transform(num_df), index=num_df.index)"
   ]
  },
  {
   "cell_type": "code",
   "execution_count": 276,
   "metadata": {
    "scrolled": true
   },
   "outputs": [
    {
     "name": "stdout",
     "output_type": "stream",
     "text": [
      "            0         1         2         3         4         5         6   \\\n",
      "0     0.709812 -0.337034 -0.555738  0.206288  0.072453  0.238910 -0.237143   \n",
      "1    -0.182844  0.460811  0.288331  0.154270 -0.206776 -0.010879  0.474026   \n",
      "2     0.788473 -0.298641 -0.303770  0.182603 -0.044109  0.053695  0.020498   \n",
      "3    -0.249879 -0.079042  0.478667 -0.024556 -0.280064  0.243309 -0.017071   \n",
      "4     1.260963 -0.178880  0.093194  0.182517 -0.029214  0.161483 -0.055788   \n",
      "...        ...       ...       ...       ...       ...       ...       ...   \n",
      "1455  0.620386 -0.476191 -0.233765 -0.352771 -0.228560 -0.201725  0.045445   \n",
      "1456  0.270017  0.802256  0.510057  0.406962  0.671797 -0.126137  0.161788   \n",
      "1457  0.118121 -0.212737  0.684088 -0.246501  0.814224  0.191884  0.930675   \n",
      "1458 -0.765337  0.231026 -0.242111  0.336505  0.598110 -0.083142  0.348415   \n",
      "1459 -0.127866 -0.270630 -0.175589  0.775994 -0.047977 -0.242691 -0.196912   \n",
      "\n",
      "            7         8         9         10        11        12        13  \\\n",
      "0    -0.283550 -0.213199  0.251429 -0.192470  0.106910 -0.182141 -0.112837   \n",
      "1    -0.094750  0.756504  0.638046 -0.016143 -0.062328 -0.005207 -0.177336   \n",
      "2     0.053783 -0.044760 -0.300589 -0.096930 -0.036483 -0.182469 -0.125191   \n",
      "3    -0.004320 -0.768325  0.336333 -0.243771 -0.806339 -0.047243 -0.092405   \n",
      "4    -0.187261  0.196877 -0.426768  0.069251 -0.267734 -0.114997  0.040063   \n",
      "...        ...       ...       ...       ...       ...       ...       ...   \n",
      "1455  0.183493 -0.040480 -0.147845 -0.010553  0.072924 -0.109573 -0.100503   \n",
      "1456  0.227955 -0.084061  0.327523  0.455315  0.119637  0.003417  0.022411   \n",
      "1457  0.176507 -0.275250 -0.030446 -0.077297  0.326727 -0.276937  0.046785   \n",
      "1458 -0.375253 -0.132129  0.158314  0.546212 -0.174600  0.286821  0.171972   \n",
      "1459 -0.443279  0.237247  0.069775  0.772547  0.164304  0.388052  0.072778   \n",
      "\n",
      "            14        15        16        17        18  \n",
      "0    -0.053722 -0.019833  0.087666  0.060805 -0.035356  \n",
      "1    -0.057413  0.021497 -0.158990 -0.233906 -0.100416  \n",
      "2    -0.153110  0.097446  0.000319  0.095777 -0.053499  \n",
      "3     0.194581  0.190551  0.016991 -0.153504 -0.006617  \n",
      "4    -0.029597 -0.089873  0.012688  0.148212 -0.020720  \n",
      "...        ...       ...       ...       ...       ...  \n",
      "1455 -0.157239  0.197506 -0.080009 -0.024746 -0.063075  \n",
      "1456 -0.096859  0.124993 -0.057682  0.032081 -0.059290  \n",
      "1457 -0.108134 -0.231746 -0.156836  0.021132  0.048489  \n",
      "1458  0.288816  0.601769  0.402225  0.384176  0.146710  \n",
      "1459  0.206144  0.075126  0.045655 -0.091754  0.028819  \n",
      "\n",
      "[1460 rows x 19 columns]\n",
      "0       208500.0\n",
      "1       181500.0\n",
      "2       223500.0\n",
      "3       140000.0\n",
      "4       250000.0\n",
      "          ...   \n",
      "1455    175000.0\n",
      "1456    210000.0\n",
      "1457    266500.0\n",
      "1458    142125.0\n",
      "1459    147500.0\n",
      "Name: SalePrice, Length: 1460, dtype: float64\n"
     ]
    }
   ],
   "source": [
    "# Single-layer MLP\n",
    "y_train = df['SalePrice']\n",
    "\n",
    "clf = MLPClassifier(hidden_layer_sizes=(1,), max_iter=200, learning_rate_init=0.001).fit(X_train, y_train)"
   ]
  },
  {
   "cell_type": "code",
   "execution_count": 277,
   "metadata": {},
   "outputs": [
    {
     "name": "stderr",
     "output_type": "stream",
     "text": [
      "/Users/ivan/opt/anaconda3/lib/python3.8/site-packages/sklearn/model_selection/_validation.py:548: FitFailedWarning: Estimator fit failed. The score on this train-test partition for these parameters will be set to nan. Details: \n",
      "Traceback (most recent call last):\n",
      "  File \"/Users/ivan/opt/anaconda3/lib/python3.8/site-packages/sklearn/model_selection/_validation.py\", line 531, in _fit_and_score\n",
      "    estimator.fit(X_train, y_train, **fit_params)\n",
      "  File \"/Users/ivan/opt/anaconda3/lib/python3.8/site-packages/sklearn/neural_network/_multilayer_perceptron.py\", line 1027, in fit\n",
      "    return self._fit(X, y, incremental=(self.warm_start and\n",
      "  File \"/Users/ivan/opt/anaconda3/lib/python3.8/site-packages/sklearn/neural_network/_multilayer_perceptron.py\", line 326, in _fit\n",
      "    X, y = self._validate_input(X, y, incremental)\n",
      "  File \"/Users/ivan/opt/anaconda3/lib/python3.8/site-packages/sklearn/neural_network/_multilayer_perceptron.py\", line 971, in _validate_input\n",
      "    self._label_binarizer.fit(y)\n",
      "  File \"/Users/ivan/opt/anaconda3/lib/python3.8/site-packages/sklearn/preprocessing/_label.py\", line 437, in fit\n",
      "    self.classes_ = unique_labels(y)\n",
      "  File \"/Users/ivan/opt/anaconda3/lib/python3.8/site-packages/sklearn/utils/multiclass.py\", line 97, in unique_labels\n",
      "    raise ValueError(\"Unknown label type: %s\" % repr(ys))\n",
      "ValueError: Unknown label type: (array([131000., 235000., 167000., ..., 266500., 142125., 147500.]),)\n",
      "\n",
      "  warnings.warn(\"Estimator fit failed. The score on this train-test\"\n",
      "/Users/ivan/opt/anaconda3/lib/python3.8/site-packages/sklearn/model_selection/_validation.py:548: FitFailedWarning: Estimator fit failed. The score on this train-test partition for these parameters will be set to nan. Details: \n",
      "Traceback (most recent call last):\n",
      "  File \"/Users/ivan/opt/anaconda3/lib/python3.8/site-packages/sklearn/model_selection/_validation.py\", line 531, in _fit_and_score\n",
      "    estimator.fit(X_train, y_train, **fit_params)\n",
      "  File \"/Users/ivan/opt/anaconda3/lib/python3.8/site-packages/sklearn/neural_network/_multilayer_perceptron.py\", line 1027, in fit\n",
      "    return self._fit(X, y, incremental=(self.warm_start and\n",
      "  File \"/Users/ivan/opt/anaconda3/lib/python3.8/site-packages/sklearn/neural_network/_multilayer_perceptron.py\", line 326, in _fit\n",
      "    X, y = self._validate_input(X, y, incremental)\n",
      "  File \"/Users/ivan/opt/anaconda3/lib/python3.8/site-packages/sklearn/neural_network/_multilayer_perceptron.py\", line 971, in _validate_input\n",
      "    self._label_binarizer.fit(y)\n",
      "  File \"/Users/ivan/opt/anaconda3/lib/python3.8/site-packages/sklearn/preprocessing/_label.py\", line 437, in fit\n",
      "    self.classes_ = unique_labels(y)\n",
      "  File \"/Users/ivan/opt/anaconda3/lib/python3.8/site-packages/sklearn/utils/multiclass.py\", line 97, in unique_labels\n",
      "    raise ValueError(\"Unknown label type: %s\" % repr(ys))\n",
      "ValueError: Unknown label type: (array([208500., 181500., 223500., ..., 266500., 142125., 147500.]),)\n",
      "\n",
      "  warnings.warn(\"Estimator fit failed. The score on this train-test\"\n",
      "/Users/ivan/opt/anaconda3/lib/python3.8/site-packages/sklearn/model_selection/_validation.py:548: FitFailedWarning: Estimator fit failed. The score on this train-test partition for these parameters will be set to nan. Details: \n",
      "Traceback (most recent call last):\n",
      "  File \"/Users/ivan/opt/anaconda3/lib/python3.8/site-packages/sklearn/model_selection/_validation.py\", line 531, in _fit_and_score\n",
      "    estimator.fit(X_train, y_train, **fit_params)\n",
      "  File \"/Users/ivan/opt/anaconda3/lib/python3.8/site-packages/sklearn/neural_network/_multilayer_perceptron.py\", line 1027, in fit\n",
      "    return self._fit(X, y, incremental=(self.warm_start and\n",
      "  File \"/Users/ivan/opt/anaconda3/lib/python3.8/site-packages/sklearn/neural_network/_multilayer_perceptron.py\", line 326, in _fit\n",
      "    X, y = self._validate_input(X, y, incremental)\n",
      "  File \"/Users/ivan/opt/anaconda3/lib/python3.8/site-packages/sklearn/neural_network/_multilayer_perceptron.py\", line 971, in _validate_input\n",
      "    self._label_binarizer.fit(y)\n",
      "  File \"/Users/ivan/opt/anaconda3/lib/python3.8/site-packages/sklearn/preprocessing/_label.py\", line 437, in fit\n",
      "    self.classes_ = unique_labels(y)\n",
      "  File \"/Users/ivan/opt/anaconda3/lib/python3.8/site-packages/sklearn/utils/multiclass.py\", line 97, in unique_labels\n",
      "    raise ValueError(\"Unknown label type: %s\" % repr(ys))\n",
      "ValueError: Unknown label type: (array([208500., 181500., 223500., ..., 266500., 142125., 147500.]),)\n",
      "\n",
      "  warnings.warn(\"Estimator fit failed. The score on this train-test\"\n",
      "/Users/ivan/opt/anaconda3/lib/python3.8/site-packages/sklearn/model_selection/_validation.py:548: FitFailedWarning: Estimator fit failed. The score on this train-test partition for these parameters will be set to nan. Details: \n",
      "Traceback (most recent call last):\n",
      "  File \"/Users/ivan/opt/anaconda3/lib/python3.8/site-packages/sklearn/model_selection/_validation.py\", line 531, in _fit_and_score\n",
      "    estimator.fit(X_train, y_train, **fit_params)\n",
      "  File \"/Users/ivan/opt/anaconda3/lib/python3.8/site-packages/sklearn/neural_network/_multilayer_perceptron.py\", line 1027, in fit\n",
      "    return self._fit(X, y, incremental=(self.warm_start and\n",
      "  File \"/Users/ivan/opt/anaconda3/lib/python3.8/site-packages/sklearn/neural_network/_multilayer_perceptron.py\", line 326, in _fit\n",
      "    X, y = self._validate_input(X, y, incremental)\n",
      "  File \"/Users/ivan/opt/anaconda3/lib/python3.8/site-packages/sklearn/neural_network/_multilayer_perceptron.py\", line 971, in _validate_input\n",
      "    self._label_binarizer.fit(y)\n",
      "  File \"/Users/ivan/opt/anaconda3/lib/python3.8/site-packages/sklearn/preprocessing/_label.py\", line 437, in fit\n",
      "    self.classes_ = unique_labels(y)\n",
      "  File \"/Users/ivan/opt/anaconda3/lib/python3.8/site-packages/sklearn/utils/multiclass.py\", line 97, in unique_labels\n",
      "    raise ValueError(\"Unknown label type: %s\" % repr(ys))\n",
      "ValueError: Unknown label type: (array([208500., 181500., 223500., ..., 266500., 142125., 147500.]),)\n",
      "\n",
      "  warnings.warn(\"Estimator fit failed. The score on this train-test\"\n",
      "/Users/ivan/opt/anaconda3/lib/python3.8/site-packages/sklearn/model_selection/_validation.py:548: FitFailedWarning: Estimator fit failed. The score on this train-test partition for these parameters will be set to nan. Details: \n",
      "Traceback (most recent call last):\n",
      "  File \"/Users/ivan/opt/anaconda3/lib/python3.8/site-packages/sklearn/model_selection/_validation.py\", line 531, in _fit_and_score\n",
      "    estimator.fit(X_train, y_train, **fit_params)\n",
      "  File \"/Users/ivan/opt/anaconda3/lib/python3.8/site-packages/sklearn/neural_network/_multilayer_perceptron.py\", line 1027, in fit\n",
      "    return self._fit(X, y, incremental=(self.warm_start and\n",
      "  File \"/Users/ivan/opt/anaconda3/lib/python3.8/site-packages/sklearn/neural_network/_multilayer_perceptron.py\", line 326, in _fit\n",
      "    X, y = self._validate_input(X, y, incremental)\n",
      "  File \"/Users/ivan/opt/anaconda3/lib/python3.8/site-packages/sklearn/neural_network/_multilayer_perceptron.py\", line 971, in _validate_input\n",
      "    self._label_binarizer.fit(y)\n",
      "  File \"/Users/ivan/opt/anaconda3/lib/python3.8/site-packages/sklearn/preprocessing/_label.py\", line 437, in fit\n",
      "    self.classes_ = unique_labels(y)\n",
      "  File \"/Users/ivan/opt/anaconda3/lib/python3.8/site-packages/sklearn/utils/multiclass.py\", line 97, in unique_labels\n",
      "    raise ValueError(\"Unknown label type: %s\" % repr(ys))\n",
      "ValueError: Unknown label type: (array([208500., 181500., 223500., ..., 233170., 245350., 173000.]),)\n",
      "\n",
      "  warnings.warn(\"Estimator fit failed. The score on this train-test\"\n"
     ]
    }
   ],
   "source": [
    "# Cross validation\n",
    "scores = cross_val_score(clf, X_train, y_train, scoring=\"neg_mean_squared_error\", cv=5)\n",
    "tree_rmse_scores = np.sqrt(-scores)"
   ]
  },
  {
   "cell_type": "code",
   "execution_count": 163,
   "metadata": {},
   "outputs": [
    {
     "name": "stdout",
     "output_type": "stream",
     "text": [
      "<class 'pandas.core.frame.DataFrame'>\n",
      "RangeIndex: 1460 entries, 0 to 1459\n",
      "Data columns (total 80 columns):\n",
      " #   Column         Non-Null Count  Dtype  \n",
      "---  ------         --------------  -----  \n",
      " 0   MSSubClass     1460 non-null   int64  \n",
      " 1   MSZoning       1460 non-null   object \n",
      " 2   LotFrontage    1460 non-null   float64\n",
      " 3   LotArea        1460 non-null   float64\n",
      " 4   Street         1460 non-null   object \n",
      " 5   Alley          91 non-null     object \n",
      " 6   LotShape       1460 non-null   object \n",
      " 7   LandContour    1460 non-null   object \n",
      " 8   Utilities      1460 non-null   object \n",
      " 9   LotConfig      1460 non-null   object \n",
      " 10  LandSlope      1460 non-null   object \n",
      " 11  Neighborhood   1460 non-null   object \n",
      " 12  Condition1     1460 non-null   object \n",
      " 13  Condition2     1460 non-null   object \n",
      " 14  BldgType       1460 non-null   object \n",
      " 15  HouseStyle     1460 non-null   object \n",
      " 16  OverallQual    1460 non-null   int64  \n",
      " 17  OverallCond    1460 non-null   int64  \n",
      " 18  YearBuilt      1460 non-null   float64\n",
      " 19  YearRemodAdd   1460 non-null   int64  \n",
      " 20  RoofStyle      1460 non-null   object \n",
      " 21  RoofMatl       1460 non-null   object \n",
      " 22  Exterior1st    1460 non-null   object \n",
      " 23  Exterior2nd    1460 non-null   object \n",
      " 24  MasVnrType     1452 non-null   object \n",
      " 25  MasVnrArea     1460 non-null   float64\n",
      " 26  ExterQual      1460 non-null   object \n",
      " 27  ExterCond      1460 non-null   object \n",
      " 28  Foundation     1460 non-null   object \n",
      " 29  BsmtQual       1423 non-null   object \n",
      " 30  BsmtCond       1423 non-null   object \n",
      " 31  BsmtExposure   1422 non-null   object \n",
      " 32  BsmtFinType1   1423 non-null   object \n",
      " 33  BsmtFinSF1     1460 non-null   float64\n",
      " 34  BsmtFinType2   1422 non-null   object \n",
      " 35  BsmtFinSF2     1460 non-null   float64\n",
      " 36  BsmtUnfSF      1460 non-null   float64\n",
      " 37  TotalBsmtSF    1460 non-null   float64\n",
      " 38  Heating        1460 non-null   object \n",
      " 39  HeatingQC      1460 non-null   object \n",
      " 40  CentralAir     1460 non-null   object \n",
      " 41  Electrical     1459 non-null   object \n",
      " 42  1stFlrSF       1460 non-null   float64\n",
      " 43  2ndFlrSF       1460 non-null   float64\n",
      " 44  LowQualFinSF   1460 non-null   int64  \n",
      " 45  GrLivArea      1460 non-null   float64\n",
      " 46  BsmtFullBath   1460 non-null   int64  \n",
      " 47  BsmtHalfBath   1460 non-null   int64  \n",
      " 48  FullBath       1460 non-null   int64  \n",
      " 49  HalfBath       1460 non-null   int64  \n",
      " 50  BedroomAbvGr   1460 non-null   int64  \n",
      " 51  KitchenAbvGr   1460 non-null   int64  \n",
      " 52  KitchenQual    1460 non-null   object \n",
      " 53  TotRmsAbvGrd   1460 non-null   int64  \n",
      " 54  Functional     1460 non-null   object \n",
      " 55  Fireplaces     1460 non-null   int64  \n",
      " 56  FireplaceQu    770 non-null    object \n",
      " 57  GarageType     1379 non-null   object \n",
      " 58  GarageYrBlt    1460 non-null   float64\n",
      " 59  GarageFinish   1379 non-null   object \n",
      " 60  GarageCars     1460 non-null   int64  \n",
      " 61  GarageArea     1460 non-null   float64\n",
      " 62  GarageQual     1379 non-null   object \n",
      " 63  GarageCond     1379 non-null   object \n",
      " 64  PavedDrive     1460 non-null   object \n",
      " 65  WoodDeckSF     1460 non-null   float64\n",
      " 66  OpenPorchSF    1460 non-null   float64\n",
      " 67  EnclosedPorch  1460 non-null   float64\n",
      " 68  3SsnPorch      1460 non-null   int64  \n",
      " 69  ScreenPorch    1460 non-null   float64\n",
      " 70  PoolArea       1460 non-null   int64  \n",
      " 71  PoolQC         7 non-null      object \n",
      " 72  Fence          281 non-null    object \n",
      " 73  MiscFeature    54 non-null     object \n",
      " 74  MiscVal        1460 non-null   int64  \n",
      " 75  MoSold         1460 non-null   int64  \n",
      " 76  YrSold         1460 non-null   int64  \n",
      " 77  SaleType       1460 non-null   object \n",
      " 78  SaleCondition  1460 non-null   object \n",
      " 79  SalePrice      1460 non-null   int64  \n",
      "dtypes: float64(17), int64(20), object(43)\n",
      "memory usage: 912.6+ KB\n"
     ]
    }
   ],
   "source": [
    "df.info(verbose=True)"
   ]
  },
  {
   "cell_type": "code",
   "execution_count": null,
   "metadata": {},
   "outputs": [],
   "source": []
  }
 ],
 "metadata": {
  "kernelspec": {
   "display_name": "Python 3",
   "language": "python",
   "name": "python3"
  },
  "language_info": {
   "codemirror_mode": {
    "name": "ipython",
    "version": 3
   },
   "file_extension": ".py",
   "mimetype": "text/x-python",
   "name": "python",
   "nbconvert_exporter": "python",
   "pygments_lexer": "ipython3",
   "version": "3.8.5"
  }
 },
 "nbformat": 4,
 "nbformat_minor": 4
}
